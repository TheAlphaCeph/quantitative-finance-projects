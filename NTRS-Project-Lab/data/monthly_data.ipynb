{
 "cells": [
  {
   "cell_type": "code",
   "execution_count": 1,
   "metadata": {},
   "outputs": [],
   "source": [
    "import os\n",
    "import numpy as np\n",
    "import pandas as pd\n",
    "from pandas.tseries.offsets import MonthEnd, YearEnd\n",
    "import wrds"
   ]
  },
  {
   "cell_type": "code",
   "execution_count": 2,
   "metadata": {},
   "outputs": [
    {
     "name": "stderr",
     "output_type": "stream",
     "text": [
      "/var/folders/zv/y4lfwq1s277d8l9hk50_nyc40000gn/T/ipykernel_57776/2864504037.py:1: DtypeWarning: Columns (62) have mixed types. Specify dtype option on import or set low_memory=False.\n",
      "  fundamentals  = pd.read_csv('full_fundamental_dataset.csv')\n"
     ]
    }
   ],
   "source": [
    "fundamentals  = pd.read_csv('full_fundamental_dataset.csv')"
   ]
  },
  {
   "cell_type": "code",
   "execution_count": 3,
   "metadata": {},
   "outputs": [],
   "source": [
    "fundamentals = fundamentals.sort_values(['permno', 'jdate']).rename(columns={'jdate': 'fund_date'})\n",
    "fundamentals['fund_date'] = pd.to_datetime(fundamentals['fund_date'])"
   ]
  },
  {
   "cell_type": "code",
   "execution_count": 4,
   "metadata": {},
   "outputs": [
    {
     "name": "stdout",
     "output_type": "stream",
     "text": [
      "Loading library list...\n",
      "Done\n"
     ]
    }
   ],
   "source": [
    "conn=wrds.Connection()\n",
    "crsp_m = conn.raw_sql(\"\"\"\n",
    "    SELECT\n",
    "        a.permno,\n",
    "        a.permco,\n",
    "        a.date,\n",
    "        b.shrcd,\n",
    "        b.exchcd,\n",
    "        a.ret,\n",
    "        a.retx,\n",
    "        a.shrout,\n",
    "        a.prc\n",
    "    FROM crsp.msf AS a\n",
    "    LEFT JOIN crsp.msenames AS b\n",
    "      ON a.permno = b.permno\n",
    "      AND b.namedt <= a.date\n",
    "      AND a.date <= b.nameendt\n",
    "    WHERE a.date BETWEEN '01/01/1959' AND '12/31/2024'\n",
    "      AND b.exchcd BETWEEN 1 AND 3\n",
    "      AND b.shrcd in (10, 11)\n",
    "    \"\"\", date_cols=['date'])"
   ]
  },
  {
   "cell_type": "code",
   "execution_count": 5,
   "metadata": {},
   "outputs": [],
   "source": [
    "crsp_m[['permco', 'permno', 'shrcd', 'exchcd', 'shrout']] = crsp_m[['permco', 'permno', 'shrcd', 'exchcd', 'shrout']].astype(int)\n",
    "crsp_m = crsp_m.sort_values(['permno', 'date'])"
   ]
  },
  {
   "cell_type": "code",
   "execution_count": 6,
   "metadata": {},
   "outputs": [],
   "source": [
    "dlret = conn.raw_sql(\"\"\"\n",
    "    SELECT permno, dlret, dlstdt \n",
    "    FROM crsp.msedelist\n",
    "    \"\"\", date_cols=['dlstdt'])\n",
    "dlret['permno'] = dlret['permno'].astype(int)\n",
    "dlret['jdate'] = dlret['dlstdt'] + MonthEnd(0)"
   ]
  },
  {
   "cell_type": "code",
   "execution_count": 7,
   "metadata": {},
   "outputs": [],
   "source": [
    "crsp_m = pd.merge_asof(\n",
    "    crsp_m.sort_values('date'),\n",
    "    dlret.sort_values('jdate'),\n",
    "    left_on='date',\n",
    "    right_on='jdate',\n",
    "    by='permno',\n",
    "    direction='backward'\n",
    ")\n",
    "crsp_m['dlret'] = crsp_m['dlret'].fillna(0)\n",
    "crsp_m['ret'] = crsp_m['ret'].fillna(0)\n",
    "\n",
    "crsp_m['retadj'] = (1 + crsp_m['ret']) * (1 + crsp_m['dlret']) - 1\n",
    "crsp_m['me'] = crsp_m['prc'].abs() * crsp_m['shrout']"
   ]
  },
  {
   "cell_type": "code",
   "execution_count": 8,
   "metadata": {},
   "outputs": [],
   "source": [
    "monthly_dataset = pd.merge_asof(\n",
    "    crsp_m.sort_values('date'),\n",
    "    fundamentals.sort_values('fund_date'),\n",
    "    left_on='date',\n",
    "    right_on='fund_date',\n",
    "    by='permno',\n",
    "    direction='backward'\n",
    ")"
   ]
  },
  {
   "cell_type": "code",
   "execution_count": 9,
   "metadata": {},
   "outputs": [],
   "source": [
    "monthly_dataset.to_csv('monthly_dataset.csv', index=False)"
   ]
  },
  {
   "cell_type": "code",
   "execution_count": 10,
   "metadata": {},
   "outputs": [],
   "source": [
    "monthly_dataset.to_parquet('monthly_dataset.parquet', index=False)"
   ]
  }
 ],
 "metadata": {
  "kernelspec": {
   "display_name": "Python 3",
   "language": "python",
   "name": "python3"
  },
  "language_info": {
   "codemirror_mode": {
    "name": "ipython",
    "version": 3
   },
   "file_extension": ".py",
   "mimetype": "text/x-python",
   "name": "python",
   "nbconvert_exporter": "python",
   "pygments_lexer": "ipython3",
   "version": "3.12.2"
  }
 },
 "nbformat": 4,
 "nbformat_minor": 2
}
