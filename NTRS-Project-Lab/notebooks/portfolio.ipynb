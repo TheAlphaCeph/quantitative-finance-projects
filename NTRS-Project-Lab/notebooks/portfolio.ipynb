{
 "cells": [
  {
   "cell_type": "code",
   "execution_count": 1,
   "metadata": {},
   "outputs": [],
   "source": [
    "import pandas as pd\n",
    "import numpy as np\n",
    "import polars as pl\n",
    "import statsmodels.api as sm\n",
    "import requests, zipfile, io\n",
    "import calendar\n",
    "from linearmodels import PanelOLS\n",
    "from pandas.tseries.offsets import MonthEnd, YearEnd\n",
    "import matplotlib.pyplot as plt\n",
    "from sklearn.linear_model import Ridge"
   ]
  },
  {
   "cell_type": "code",
   "execution_count": 2,
   "metadata": {},
   "outputs": [],
   "source": [
    "df_forecasts = pl.read_parquet(\"full_results/composite_forecasts.parquet\")\n",
    "df_fundamental = pl.read_parquet(\"data/monthly_dataset.parquet\")"
   ]
  },
  {
   "cell_type": "markdown",
   "metadata": {},
   "source": [
    "Not enough gvkey data for 2024 yet"
   ]
  },
  {
   "cell_type": "code",
   "execution_count": 3,
   "metadata": {},
   "outputs": [],
   "source": [
    "df_forecasts = df_forecasts.with_columns(\n",
    "    pl.col(\"gvkey\").cast(pl.Int64).cast(pl.Utf8).str.zfill(6)\n",
    ")\n",
    "df_fundamental = df_fundamental.with_columns(\n",
    "    pl.col(\"gvkey\").cast(pl.Int64).cast(pl.Utf8).str.zfill(6),\n",
    "    pl.col(\"date\").cast(pl.Date),\n",
    "    pl.col(\"retadj_x\").alias(\"retadj\")\n",
    ")\n",
    "df_fundamental_subset = df_fundamental.select([\"gvkey\", \"date\", \"sic\", \"retadj\"])\n",
    "# Drop 2024 data\n",
    "df_fundamental_subset = df_fundamental_subset.filter(pl.col(\"date\").dt.year() != 2024)"
   ]
  },
  {
   "cell_type": "code",
   "execution_count": 4,
   "metadata": {},
   "outputs": [],
   "source": [
    "df_calendar = (\n",
    "    df_fundamental_subset.select(\n",
    "        pl.col(\"date\"),\n",
    "        pl.col(\"date\").dt.year().alias(\"year\"),\n",
    "        pl.col(\"date\").dt.month().alias(\"month\")\n",
    "    )\n",
    "    .unique()\n",
    "    .group_by([\"year\", \"month\"])\n",
    "    .agg(pl.col(\"date\").max().alias(\"date\"))\n",
    "    .sort([\"year\", \"month\"])\n",
    "    .select([\"year\", \"date\"])\n",
    ")"
   ]
  },
  {
   "cell_type": "code",
   "execution_count": 5,
   "metadata": {},
   "outputs": [],
   "source": [
    "df_forecasts = df_forecasts.with_columns(\n",
    "    pl.col(\"year\").cast(pl.Int32)\n",
    ")\n",
    "\n",
    "df_calendar = df_calendar.with_columns(\n",
    "    pl.col(\"year\").cast(pl.Int32)\n",
    ")\n",
    "\n",
    "df_forecasts_monthly = df_forecasts.join(\n",
    "    df_calendar, on=\"year\", how=\"inner\"\n",
    ")"
   ]
  },
  {
   "cell_type": "code",
   "execution_count": 6,
   "metadata": {},
   "outputs": [],
   "source": [
    "df_merged = df_forecasts_monthly.join(\n",
    "    df_fundamental_subset, on=[\"date\", \"gvkey\"], how=\"inner\"\n",
    ")"
   ]
  },
  {
   "cell_type": "code",
   "execution_count": 7,
   "metadata": {},
   "outputs": [
    {
     "name": "stdout",
     "output_type": "stream",
     "text": [
      "Number of missing retadj values:  0\n"
     ]
    }
   ],
   "source": [
    "# drop missing retadj values\n",
    "df_merged = df_merged.drop_nulls()\n",
    "print(\"Number of missing retadj values: \", df_merged.filter(pl.col(\"retadj\").is_null()).shape[0])"
   ]
  },
  {
   "cell_type": "code",
   "execution_count": 8,
   "metadata": {},
   "outputs": [
    {
     "name": "stdout",
     "output_type": "stream",
     "text": [
      "shape: (1, 39)\n",
      "┌───────┬──────┬─────┬─────────┬───┬───────────────────────┬──────┬─────┬────────┐\n",
      "│ gvkey ┆ year ┆ E   ┆ mkt_cap ┆ … ┆ abs_error_rw_baseline ┆ date ┆ sic ┆ retadj │\n",
      "│ ---   ┆ ---  ┆ --- ┆ ---     ┆   ┆ ---                   ┆ ---  ┆ --- ┆ ---    │\n",
      "│ u32   ┆ u32  ┆ u32 ┆ u32     ┆   ┆ u32                   ┆ u32  ┆ u32 ┆ u32    │\n",
      "╞═══════╪══════╪═════╪═════════╪═══╪═══════════════════════╪══════╪═════╪════════╡\n",
      "│ 0     ┆ 0    ┆ 0   ┆ 0       ┆ … ┆ 0                     ┆ 0    ┆ 0   ┆ 0      │\n",
      "└───────┴──────┴─────┴─────────┴───┴───────────────────────┴──────┴─────┴────────┘\n"
     ]
    }
   ],
   "source": [
    "null_counts = df_merged.null_count()\n",
    "print(null_counts)"
   ]
  },
  {
   "cell_type": "code",
   "execution_count": 9,
   "metadata": {},
   "outputs": [],
   "source": [
    "cols_to_keep = ['gvkey', 'year', 'E', 'mkt_cap', 'E_future', 'E_pred_ols', 'E_pred_ann_bagging', 'E_pred_ar', 'E_pred_catboost', 'E_pred_gbf', \n",
    "                'E_pred_hvz', 'E_pred_lasso', 'E_pred_lightgbm', 'E_pred_ri', 'E_pred_ridge', 'E_pred_rw', 'E_pred_xgb', 'COMP_EXT', 'COMP_LR', \n",
    "                'COMP_NL', 'COMP_ML', 'COMP_MED_EXT', 'COMP_MED_LR', 'COMP_MED_NL', 'COMP_MED_ML', 'date', 'sic', 'retadj']\n",
    "df_merged = df_merged.select(cols_to_keep)"
   ]
  },
  {
   "cell_type": "code",
   "execution_count": 10,
   "metadata": {},
   "outputs": [],
   "source": [
    "# Keep only unique gvkey-date pairs\n",
    "df_merged = df_merged.unique(subset=[\"gvkey\", \"date\"])"
   ]
  },
  {
   "cell_type": "code",
   "execution_count": 11,
   "metadata": {},
   "outputs": [
    {
     "name": "stdout",
     "output_type": "stream",
     "text": [
      "shape: (1, 28)\n",
      "┌───────┬──────┬─────┬─────────┬───┬─────────────┬──────┬─────┬────────┐\n",
      "│ gvkey ┆ year ┆ E   ┆ mkt_cap ┆ … ┆ COMP_MED_ML ┆ date ┆ sic ┆ retadj │\n",
      "│ ---   ┆ ---  ┆ --- ┆ ---     ┆   ┆ ---         ┆ ---  ┆ --- ┆ ---    │\n",
      "│ u32   ┆ u32  ┆ u32 ┆ u32     ┆   ┆ u32         ┆ u32  ┆ u32 ┆ u32    │\n",
      "╞═══════╪══════╪═════╪═════════╪═══╪═════════════╪══════╪═════╪════════╡\n",
      "│ 0     ┆ 0    ┆ 0   ┆ 0       ┆ … ┆ 0           ┆ 0    ┆ 0   ┆ 0      │\n",
      "└───────┴──────┴─────┴─────────┴───┴─────────────┴──────┴─────┴────────┘\n"
     ]
    }
   ],
   "source": [
    "# Check for NaN values in df_merged\n",
    "null_counts = df_merged.null_count()\n",
    "print(null_counts)"
   ]
  },
  {
   "cell_type": "code",
   "execution_count": 51,
   "metadata": {},
   "outputs": [],
   "source": [
    "# -----------------------------\n",
    "# Step 1. For each month, estimate the new information component.\n",
    "# -----------------------------\n",
    "def compute_resid_info(subdf: pl.DataFrame) -> pl.DataFrame:\n",
    "    X = subdf.select([\"E_pred_rw\", \"COMP_EXT\"]).to_pandas()\n",
    "    y = subdf.select(\"COMP_ML\").to_pandas().squeeze()\n",
    "    X = sm.add_constant(X) \n",
    "    model = sm.OLS(y, X).fit()\n",
    "    residuals = model.resid.values\n",
    "    return subdf.with_columns(pl.Series(\"ML_resid\", residuals))"
   ]
  },
  {
   "cell_type": "code",
   "execution_count": 52,
   "metadata": {},
   "outputs": [],
   "source": [
    "dfs = []\n",
    "for date_val, group_df in df_merged.group_by(\"date\"):\n",
    "    dfs.append(compute_resid_info(group_df))\n",
    "df_merged = pl.concat(dfs)"
   ]
  },
  {
   "cell_type": "code",
   "execution_count": 53,
   "metadata": {},
   "outputs": [],
   "source": [
    "# ---------------------------------------------------------------------\n",
    "# Step 2. Assign stocks into quintiles based on new information\n",
    "#         within each three-digit SIC group for each month.\n",
    "# ---------------------------------------------------------------------\n",
    "df_merged = df_merged.with_columns(\n",
    "    pl.col(\"sic\")\n",
    "      .cast(pl.Utf8)\n",
    "      .str.slice(0, 3)\n",
    "      .alias(\"sic_3d\")\n",
    ")\n",
    "\n",
    "bounds = (\n",
    "    df_merged\n",
    "    .group_by([\"date\", \"sic_3d\"])\n",
    "    .agg([\n",
    "        pl.col(\"ML_resid\").quantile(0.2).alias(\"q20\"),\n",
    "        pl.col(\"ML_resid\").quantile(0.4).alias(\"q40\"),\n",
    "        pl.col(\"ML_resid\").quantile(0.6).alias(\"q60\"),\n",
    "        pl.col(\"ML_resid\").quantile(0.8).alias(\"q80\")\n",
    "    ])\n",
    ")\n",
    "\n",
    "df_merged = df_merged.join(bounds, on=[\"date\", \"sic_3d\"], how=\"left\")\n",
    "\n",
    "df_merged = df_merged.with_columns(\n",
    "    pl.when(pl.col(\"ML_resid\") <= pl.col(\"q20\"))\n",
    "      .then(1)\n",
    "      .when(pl.col(\"ML_resid\") <= pl.col(\"q40\"))\n",
    "      .then(2)\n",
    "      .when(pl.col(\"ML_resid\") <= pl.col(\"q60\"))\n",
    "      .then(3)\n",
    "      .when(pl.col(\"ML_resid\") <= pl.col(\"q80\"))\n",
    "      .then(4)\n",
    "      .otherwise(5)\n",
    "      .alias(\"quintile\")\n",
    ")"
   ]
  },
  {
   "cell_type": "code",
   "execution_count": 54,
   "metadata": {},
   "outputs": [],
   "source": [
    "# ---------------------------------------------------------------------\n",
    "# Step 3. Construct hedge portfolios.\n",
    "#\n",
    "# For each month, we compute:\n",
    "#   - Equal-weighted return (ret_ew) as the simple average of retadj.\n",
    "#   - Value-weighted return (ret_vw) as the weighted average using mkt_cap.\n",
    "#\n",
    "# Then, for each month, we extract returns for quintile 1 (least favorable new info)\n",
    "# and quintile 5 (most favorable new info) and compute the hedge portfolio return as:\n",
    "#   Hedge Return = Return (Q5) - Return (Q1)\n",
    "# ---------------------------------------------------------------------\n",
    "# Compute returns within each (date, quintile) group.\n",
    "df_portfolio_agg = df_merged.group_by([\"date\", \"quintile\"]).agg([\n",
    "    pl.col(\"retadj\").mean().alias(\"ret_ew\"),\n",
    "    ((pl.col(\"retadj\") * pl.col(\"mkt_cap\")).sum() / pl.col(\"mkt_cap\").sum()).alias(\"ret_vw\")\n",
    "])\n",
    "\n",
    "# Extract quintile 1 and quintile 5 returns.\n",
    "df_q1 = df_portfolio_agg.filter(pl.col(\"quintile\") == 1) \\\n",
    "        .select([\"date\", \"ret_ew\", \"ret_vw\"]) \\\n",
    "        .rename({\"ret_ew\": \"ret_ew_1\", \"ret_vw\": \"ret_vw_1\"})\n",
    "df_q5 = df_portfolio_agg.filter(pl.col(\"quintile\") == 5) \\\n",
    "        .select([\"date\", \"ret_ew\", \"ret_vw\"]) \\\n",
    "        .rename({\"ret_ew\": \"ret_ew_5\", \"ret_vw\": \"ret_vw_5\"})\n",
    "\n",
    "\n",
    "df_portfolio = df_q1.join(df_q5, on=\"date\", how=\"full\")\n",
    "\n",
    "# Compute hedge portfolio returns.\n",
    "df_portfolio = df_portfolio.with_columns([\n",
    "    (pl.col(\"ret_ew_5\") - pl.col(\"ret_ew_1\")).alias(\"hedge_ret_ew\"),\n",
    "    (pl.col(\"ret_vw_5\") - pl.col(\"ret_vw_1\")).alias(\"hedge_ret_vw\")\n",
    "])\n"
   ]
  },
  {
   "cell_type": "code",
   "execution_count": 55,
   "metadata": {},
   "outputs": [
    {
     "data": {
      "image/png": "[encoded data removed]",
      "text/plain": [
       "<Figure size 1000x600 with 1 Axes>"
      ]
     },
     "metadata": {},
     "output_type": "display_data"
    }
   ],
   "source": [
    "# Sort the DataFrame by date\n",
    "df_portfolio = df_portfolio.sort(\"date\")\n",
    "\n",
    "# Compute cumulative returns using NumPy's cumprod on the underlying array\n",
    "cum_ret_ew = np.cumprod(df_portfolio[\"hedge_ret_ew\"].to_numpy() + 1) - 1\n",
    "cum_ret_vw = np.cumprod(df_portfolio[\"hedge_ret_vw\"].to_numpy() + 1) - 1\n",
    "\n",
    "# Add the computed cumulative returns as new columns\n",
    "df_portfolio = df_portfolio.with_columns([\n",
    "    pl.Series(\"cum_ret_ew\", cum_ret_ew),\n",
    "    pl.Series(\"cum_ret_vw\", cum_ret_vw)\n",
    "])\n",
    "\n",
    "# Convert to pandas DataFrame for plotting\n",
    "df_portfolio_pd = df_portfolio.to_pandas()\n",
    "df_portfolio_pd['date'] = pd.to_datetime(df_portfolio_pd['date'])\n",
    "\n",
    "# Plot the cumulative returns\n",
    "plt.figure(figsize=(10, 6))\n",
    "plt.plot(df_portfolio_pd['date'], df_portfolio_pd['cum_ret_ew'], label='Equal-Weighted Hedge Portfolio', linewidth=2)\n",
    "plt.plot(df_portfolio_pd['date'], df_portfolio_pd['cum_ret_vw'], label='Value-Weighted Hedge Portfolio', linewidth=2)\n",
    "plt.xlabel('Date')\n",
    "plt.ylabel('Cumulative Return')\n",
    "plt.title('Cumulative Returns for Hedge Portfolios Over Time')\n",
    "plt.legend()\n",
    "plt.grid(True)\n",
    "plt.tight_layout()\n",
    "plt.show()"
   ]
  },
  {
   "cell_type": "code",
   "execution_count": 56,
   "metadata": {},
   "outputs": [
    {
     "name": "stdout",
     "output_type": "stream",
     "text": [
      "Annualized Mean Return (Equal-Weighted Hedge Portfolio): 1.08%\n",
      "Annualized Mean Return (Value-Weighted Hedge Portfolio): 2.32%\n"
     ]
    }
   ],
   "source": [
    "# Annualized Mean Returns of the hedge portfolios\n",
    "annualized_mean_ret_ew = 12 * df_portfolio_pd['hedge_ret_ew'].mean()\n",
    "annualized_mean_ret_vw = 12 * df_portfolio_pd['hedge_ret_vw'].mean()\n",
    "print(f\"Annualized Mean Return (Equal-Weighted Hedge Portfolio): {annualized_mean_ret_ew:.2%}\")\n",
    "print(f\"Annualized Mean Return (Value-Weighted Hedge Portfolio): {annualized_mean_ret_vw:.2%}\")"
   ]
  },
  {
   "cell_type": "code",
   "execution_count": 57,
   "metadata": {},
   "outputs": [
    {
     "name": "stdout",
     "output_type": "stream",
     "text": [
      "Max Drawdown (Equal-weighted): -0.44632660930893686\n",
      "Max Drawdown (Value-weighted): -0.24770667876328778\n"
     ]
    }
   ],
   "source": [
    "# Max Drawdown of the hedge portfolios and the time period\n",
    "def compute_max_drawdown(cum_returns):\n",
    "    growth = cum_returns + 1\n",
    "    running_max = np.maximum.accumulate(growth)\n",
    "    drawdown = growth / running_max - 1\n",
    "    return drawdown.min()\n",
    "max_dd_ew = compute_max_drawdown(cum_ret_ew)\n",
    "max_dd_vw = compute_max_drawdown(cum_ret_vw)\n",
    "\n",
    "print(\"Max Drawdown (Equal-weighted):\", max_dd_ew)\n",
    "print(\"Max Drawdown (Value-weighted):\", max_dd_vw)"
   ]
  },
  {
   "cell_type": "code",
   "execution_count": 58,
   "metadata": {},
   "outputs": [
    {
     "name": "stdout",
     "output_type": "stream",
     "text": [
      "Annualized Sharpe Ratio (Equal-Weighted): 0.1335\n",
      "Annualized Sharpe Ratio (Value-Weighted): 0.3648\n"
     ]
    }
   ],
   "source": [
    "# Calculate the annualized sharpe ratio of the hedge portfolios\n",
    "annualized_sharpe_ew = np.sqrt(12) * df_portfolio_pd['hedge_ret_ew'].mean() / df_portfolio_pd['hedge_ret_ew'].std()\n",
    "annualized_sharpe_vw = np.sqrt(12) * df_portfolio_pd['hedge_ret_vw'].mean() / df_portfolio_pd['hedge_ret_vw'].std()\n",
    "print(f\"Annualized Sharpe Ratio (Equal-Weighted): {annualized_sharpe_ew:.4f}\")\n",
    "print(f\"Annualized Sharpe Ratio (Value-Weighted): {annualized_sharpe_vw:.4f}\")"
   ]
  },
  {
   "cell_type": "code",
   "execution_count": 59,
   "metadata": {},
   "outputs": [],
   "source": [
    "def load_ff3_factors_local(filepath=\"F-F_Research_Data_Factors.CSV\"):\n",
    "    \"\"\"\n",
    "    Loads and processes the Fama-French 3-factor file (plus RF) \n",
    "    \"\"\"\n",
    "    df = pd.read_csv(filepath, skiprows=3)\n",
    "    \n",
    "    df.rename(columns={\"Unnamed: 0\": \"Date\"}, inplace=True)\n",
    "    \n",
    "    df = df[df[\"Date\"].astype(str).str.match(r'^\\d{6}$')]\n",
    "    \n",
    "    df[\"Date\"] = pd.to_datetime(df[\"Date\"], format=\"%Y%m\")\n",
    "    \n",
    "    for col in [\"Mkt-RF\", \"SMB\", \"HML\", \"RF\"]:\n",
    "        df[col] = pd.to_numeric(df[col], errors=\"coerce\") / 100\n",
    "    \n",
    "    df.rename(columns={\"Mkt-RF\": \"Mkt_RF\"}, inplace=True)\n",
    "    \n",
    "    return df\n",
    "\n",
    "def load_ff5_factors_local(filepath=\"F-F_Research_Data_5_Factors_2x3.CSV\"):\n",
    "    \"\"\"\n",
    "    Loads and processes the Fama-French 5-factor file (plus RF).\n",
    "    \"\"\"\n",
    "    df = pd.read_csv(filepath, skiprows=3)\n",
    "    \n",
    "    df.rename(columns={df.columns[0]: \"Date\"}, inplace=True)\n",
    "    \n",
    "    df = df[df[\"Date\"].astype(str).str.match(r'^\\d{6}$')]\n",
    "    \n",
    "    df[\"Date\"] = pd.to_datetime(df[\"Date\"], format=\"%Y%m\")\n",
    "    \n",
    "    df.rename(columns={\"Mkt-RF\": \"Mkt_RF\"}, inplace=True)\n",
    "    \n",
    "    factor_cols = [\"Mkt_RF\", \"SMB\", \"HML\", \"RMW\", \"CMA\", \"RF\"]\n",
    "    for col in factor_cols:\n",
    "        df[col] = pd.to_numeric(df[col], errors=\"coerce\") / 100 \n",
    "    \n",
    "    return df\n",
    "\n",
    "def load_momentum_factor_local(filepath=\"F-F_Momentum_Factor.CSV\"):\n",
    "    \"\"\"\n",
    "    Loads and processes the Momentum factor file.\n",
    "    \"\"\"\n",
    "    df = pd.read_csv(filepath, skiprows=13)\n",
    "\n",
    "    df.columns = df.columns.str.strip()\n",
    "    \n",
    "    df.rename(columns={df.columns[0]: \"Date\"}, inplace=True)\n",
    "    \n",
    "    df = df[df[\"Date\"].astype(str).str.match(r'^\\d{6}$')]\n",
    "    \n",
    "    df[\"Date\"] = pd.to_datetime(df[\"Date\"], format=\"%Y%m\")\n",
    "    \n",
    "    df[\"Mom\"] = pd.to_numeric(df[\"Mom\"], errors=\"coerce\") / 100\n",
    "    \n",
    "    return df"
   ]
  },
  {
   "cell_type": "code",
   "execution_count": 60,
   "metadata": {},
   "outputs": [],
   "source": [
    "df_ff3 = load_ff3_factors_local(\"data/F-F_Research_Data_Factors.CSV\")\n",
    "ff5_df = load_ff5_factors_local(\"data/F-F_Research_Data_5_Factors_2x3.CSV\")\n",
    "mom_df = load_momentum_factor_local(\"data/F-F_Momentum_Factor.CSV\")"
   ]
  },
  {
   "cell_type": "code",
   "execution_count": 61,
   "metadata": {},
   "outputs": [],
   "source": [
    "df_ff3_pl = pl.from_pandas(df_ff3)\n",
    "df_portfolio = df_portfolio.with_columns(pl.col(\"date\").cast(pl.Datetime(\"ns\")))\n",
    "df_portfolio = df_portfolio.with_columns(\n",
    "    pl.col(\"date\").dt.truncate(\"1mo\")\n",
    ")\n",
    "df_merged_ff3 = df_portfolio.join(df_ff3_pl, left_on=\"date\", right_on=\"Date\", how=\"inner\")\n",
    "df_merged_ff3 = df_merged_ff3.with_columns(\n",
    "    (pl.col(\"hedge_ret_vw\") - pl.col(\"RF\")).alias(\"excess_ret_vw\"),\n",
    "    (pl.col(\"hedge_ret_ew\") - pl.col(\"RF\")).alias(\"excess_ret_ew\")\n",
    ")"
   ]
  },
  {
   "cell_type": "code",
   "execution_count": 62,
   "metadata": {},
   "outputs": [],
   "source": [
    "mom_pl = pl.from_pandas(mom_df)\n",
    "df_carhart = df_ff3_pl.join(mom_pl, on=\"Date\", how=\"inner\")\n",
    "df_reg_carhart = df_portfolio.join(df_carhart, left_on=\"date\", right_on=\"Date\", how=\"inner\")\n",
    "df_reg_carhart = df_reg_carhart.with_columns(\n",
    "    (pl.col(\"hedge_ret_vw\") - pl.col(\"RF\")).alias(\"excess_ret_vw\"),\n",
    "    (pl.col(\"hedge_ret_ew\") - pl.col(\"RF\")).alias(\"excess_ret_ew\")\n",
    ")"
   ]
  },
  {
   "cell_type": "code",
   "execution_count": 63,
   "metadata": {},
   "outputs": [],
   "source": [
    "df_ff5_pl = pl.from_pandas(ff5_df)\n",
    "df_merged_ff5 = df_portfolio.join(df_ff5_pl, left_on=\"date\", right_on=\"Date\", how=\"inner\")\n",
    "df_merged_ff5 = df_merged_ff5.with_columns(\n",
    "    (pl.col(\"hedge_ret_vw\") - pl.col(\"RF\")).alias(\"excess_ret_vw\"),\n",
    "    (pl.col(\"hedge_ret_ew\") - pl.col(\"RF\")).alias(\"excess_ret_ew\")\n",
    ")"
   ]
  },
  {
   "cell_type": "code",
   "execution_count": 64,
   "metadata": {},
   "outputs": [],
   "source": [
    "def calc_alpha(df, factor_list, ret_col):\n",
    "    X = df.select(factor_list).to_pandas()\n",
    "    X = sm.add_constant(X) \n",
    "    y = df.select(ret_col).to_pandas().squeeze() \n",
    "    model = sm.OLS(y, X).fit(cov_type='HAC', cov_kwds={'maxlags': 3})\n",
    "    return model.params[\"const\"], model"
   ]
  },
  {
   "cell_type": "code",
   "execution_count": 65,
   "metadata": {},
   "outputs": [
    {
     "name": "stdout",
     "output_type": "stream",
     "text": [
      "Value-Weighted CAPM Alpha: -0.002030881420883425\n",
      "                            OLS Regression Results                            \n",
      "==============================================================================\n",
      "Dep. Variable:          excess_ret_vw   R-squared:                       0.024\n",
      "Model:                            OLS   Adj. R-squared:                  0.023\n",
      "Method:                 Least Squares   F-statistic:                     11.53\n",
      "Date:                Tue, 11 Mar 2025   Prob (F-statistic):           0.000731\n",
      "Time:                        08:41:41   Log-Likelihood:                 1512.2\n",
      "No. Observations:                 588   AIC:                            -3020.\n",
      "Df Residuals:                     586   BIC:                            -3012.\n",
      "Df Model:                           1                                         \n",
      "Covariance Type:                  HAC                                         \n",
      "==============================================================================\n",
      "                 coef    std err          z      P>|z|      [0.025      0.975]\n",
      "------------------------------------------------------------------------------\n",
      "const         -0.0020      0.001     -2.382      0.017      -0.004      -0.000\n",
      "Mkt_RF         0.0645      0.019      3.396      0.001       0.027       0.102\n",
      "==============================================================================\n",
      "Omnibus:                       15.005   Durbin-Watson:                   1.945\n",
      "Prob(Omnibus):                  0.001   Jarque-Bera (JB):               25.043\n",
      "Skew:                          -0.166   Prob(JB):                     3.65e-06\n",
      "Kurtosis:                       3.955   Cond. No.                         22.1\n",
      "==============================================================================\n",
      "\n",
      "Notes:\n",
      "[1] Standard Errors are heteroscedasticity and autocorrelation robust (HAC) using 3 lags and without small sample correction\n"
     ]
    }
   ],
   "source": [
    "# Value weighted CAPM alpha\n",
    "alpha_vw, model_vw = calc_alpha(df_merged_ff3, [\"Mkt_RF\"], \"excess_ret_vw\")\n",
    "print(\"Value-Weighted CAPM Alpha:\", alpha_vw)\n",
    "print(model_vw.summary())"
   ]
  },
  {
   "cell_type": "code",
   "execution_count": 66,
   "metadata": {},
   "outputs": [
    {
     "name": "stdout",
     "output_type": "stream",
     "text": [
      "Equal-Weighted CAPM Alpha: -0.0030970343747520833\n",
      "                            OLS Regression Results                            \n",
      "==============================================================================\n",
      "Dep. Variable:          excess_ret_ew   R-squared:                       0.018\n",
      "Model:                            OLS   Adj. R-squared:                  0.016\n",
      "Method:                 Least Squares   F-statistic:                     6.980\n",
      "Date:                Tue, 11 Mar 2025   Prob (F-statistic):            0.00846\n",
      "Time:                        08:41:41   Log-Likelihood:                 1373.8\n",
      "No. Observations:                 588   AIC:                            -2744.\n",
      "Df Residuals:                     586   BIC:                            -2735.\n",
      "Df Model:                           1                                         \n",
      "Covariance Type:                  HAC                                         \n",
      "==============================================================================\n",
      "                 coef    std err          z      P>|z|      [0.025      0.975]\n",
      "------------------------------------------------------------------------------\n",
      "const         -0.0031      0.001     -2.686      0.007      -0.005      -0.001\n",
      "Mkt_RF         0.0692      0.026      2.642      0.008       0.018       0.121\n",
      "==============================================================================\n",
      "Omnibus:                      278.096   Durbin-Watson:                   1.576\n",
      "Prob(Omnibus):                  0.000   Jarque-Bera (JB):             4454.455\n",
      "Skew:                           1.671   Prob(JB):                         0.00\n",
      "Kurtosis:                      16.063   Cond. No.                         22.1\n",
      "==============================================================================\n",
      "\n",
      "Notes:\n",
      "[1] Standard Errors are heteroscedasticity and autocorrelation robust (HAC) using 3 lags and without small sample correction\n"
     ]
    }
   ],
   "source": [
    "# Equal weighted CAPM alpha\n",
    "alpha_ew, model_ew = calc_alpha(df_merged_ff3, [\"Mkt_RF\"], \"excess_ret_ew\")\n",
    "print(\"Equal-Weighted CAPM Alpha:\", alpha_ew)\n",
    "print(model_ew.summary())"
   ]
  },
  {
   "cell_type": "code",
   "execution_count": 67,
   "metadata": {},
   "outputs": [
    {
     "name": "stdout",
     "output_type": "stream",
     "text": [
      "Value-Weighted FF3 Alpha: -0.001783816899788942\n",
      "                            OLS Regression Results                            \n",
      "==============================================================================\n",
      "Dep. Variable:          excess_ret_vw   R-squared:                       0.039\n",
      "Model:                            OLS   Adj. R-squared:                  0.034\n",
      "Method:                 Least Squares   F-statistic:                     4.972\n",
      "Date:                Tue, 11 Mar 2025   Prob (F-statistic):            0.00205\n",
      "Time:                        08:41:41   Log-Likelihood:                 1516.6\n",
      "No. Observations:                 588   AIC:                            -3025.\n",
      "Df Residuals:                     584   BIC:                            -3008.\n",
      "Df Model:                           3                                         \n",
      "Covariance Type:                  HAC                                         \n",
      "==============================================================================\n",
      "                 coef    std err          z      P>|z|      [0.025      0.975]\n",
      "------------------------------------------------------------------------------\n",
      "const         -0.0018      0.001     -2.164      0.030      -0.003      -0.000\n",
      "Mkt_RF         0.0543      0.018      2.978      0.003       0.019       0.090\n",
      "SMB            0.0064      0.033      0.195      0.845      -0.058       0.071\n",
      "HML           -0.0728      0.031     -2.349      0.019      -0.134      -0.012\n",
      "==============================================================================\n",
      "Omnibus:                       15.738   Durbin-Watson:                   1.971\n",
      "Prob(Omnibus):                  0.000   Jarque-Bera (JB):               25.425\n",
      "Skew:                          -0.193   Prob(JB):                     3.01e-06\n",
      "Kurtosis:                       3.943   Cond. No.                         36.3\n",
      "==============================================================================\n",
      "\n",
      "Notes:\n",
      "[1] Standard Errors are heteroscedasticity and autocorrelation robust (HAC) using 3 lags and without small sample correction\n"
     ]
    }
   ],
   "source": [
    "# Value weighted FF3 alpha\n",
    "alpha_vw_ff3, model_vw_ff3 = calc_alpha(df_merged_ff3, [\"Mkt_RF\", \"SMB\", \"HML\"], \"excess_ret_vw\")\n",
    "print(\"Value-Weighted FF3 Alpha:\", alpha_vw_ff3)\n",
    "print(model_vw_ff3.summary())"
   ]
  },
  {
   "cell_type": "code",
   "execution_count": 68,
   "metadata": {},
   "outputs": [
    {
     "name": "stdout",
     "output_type": "stream",
     "text": [
      "Equal-Weighted FF3 Alpha: -0.0025479679321875484\n",
      "                            OLS Regression Results                            \n",
      "==============================================================================\n",
      "Dep. Variable:          excess_ret_ew   R-squared:                       0.093\n",
      "Model:                            OLS   Adj. R-squared:                  0.088\n",
      "Method:                 Least Squares   F-statistic:                     6.748\n",
      "Date:                Tue, 11 Mar 2025   Prob (F-statistic):           0.000176\n",
      "Time:                        08:41:41   Log-Likelihood:                 1397.3\n",
      "No. Observations:                 588   AIC:                            -2787.\n",
      "Df Residuals:                     584   BIC:                            -2769.\n",
      "Df Model:                           3                                         \n",
      "Covariance Type:                  HAC                                         \n",
      "==============================================================================\n",
      "                 coef    std err          z      P>|z|      [0.025      0.975]\n",
      "------------------------------------------------------------------------------\n",
      "const         -0.0025      0.001     -2.423      0.015      -0.005      -0.000\n",
      "Mkt_RF         0.0295      0.030      0.981      0.327      -0.029       0.088\n",
      "SMB            0.0992      0.092      1.078      0.281      -0.081       0.279\n",
      "HML           -0.1792      0.049     -3.656      0.000      -0.275      -0.083\n",
      "==============================================================================\n",
      "Omnibus:                      223.926   Durbin-Watson:                   1.672\n",
      "Prob(Omnibus):                  0.000   Jarque-Bera (JB):             2817.473\n",
      "Skew:                           1.314   Prob(JB):                         0.00\n",
      "Kurtosis:                      13.397   Cond. No.                         36.3\n",
      "==============================================================================\n",
      "\n",
      "Notes:\n",
      "[1] Standard Errors are heteroscedasticity and autocorrelation robust (HAC) using 3 lags and without small sample correction\n"
     ]
    }
   ],
   "source": [
    "# Equal weighted FF3 alpha\n",
    "alpha_ew_ff3, model_ew_ff3 = calc_alpha(df_merged_ff3, [\"Mkt_RF\", \"SMB\", \"HML\"], \"excess_ret_ew\")\n",
    "print(\"Equal-Weighted FF3 Alpha:\", alpha_ew_ff3)\n",
    "print(model_ew_ff3.summary())"
   ]
  },
  {
   "cell_type": "code",
   "execution_count": 69,
   "metadata": {},
   "outputs": [
    {
     "name": "stdout",
     "output_type": "stream",
     "text": [
      "Value-Weighted Carhart Alpha: -0.002102085389331161\n",
      "                            OLS Regression Results                            \n",
      "==============================================================================\n",
      "Dep. Variable:          excess_ret_vw   R-squared:                       0.048\n",
      "Model:                            OLS   Adj. R-squared:                  0.041\n",
      "Method:                 Least Squares   F-statistic:                     3.861\n",
      "Date:                Tue, 11 Mar 2025   Prob (F-statistic):            0.00418\n",
      "Time:                        08:41:41   Log-Likelihood:                 1519.3\n",
      "No. Observations:                 588   AIC:                            -3029.\n",
      "Df Residuals:                     583   BIC:                            -3007.\n",
      "Df Model:                           4                                         \n",
      "Covariance Type:                  HAC                                         \n",
      "==============================================================================\n",
      "                 coef    std err          z      P>|z|      [0.025      0.975]\n",
      "------------------------------------------------------------------------------\n",
      "const         -0.0021      0.001     -2.471      0.013      -0.004      -0.000\n",
      "Mkt_RF         0.0629      0.020      3.198      0.001       0.024       0.101\n",
      "SMB            0.0053      0.033      0.163      0.870      -0.058       0.069\n",
      "HML           -0.0578      0.029     -1.980      0.048      -0.115      -0.001\n",
      "Mom            0.0419      0.028      1.519      0.129      -0.012       0.096\n",
      "==============================================================================\n",
      "Omnibus:                       13.947   Durbin-Watson:                   1.955\n",
      "Prob(Omnibus):                  0.001   Jarque-Bera (JB):               21.524\n",
      "Skew:                          -0.181   Prob(JB):                     2.12e-05\n",
      "Kurtosis:                       3.864   Cond. No.                         36.6\n",
      "==============================================================================\n",
      "\n",
      "Notes:\n",
      "[1] Standard Errors are heteroscedasticity and autocorrelation robust (HAC) using 3 lags and without small sample correction\n"
     ]
    }
   ],
   "source": [
    "# Value weighted Carhart alpha\n",
    "alpha_vw_carhart, model_vw_carhart = calc_alpha(df_reg_carhart, [\"Mkt_RF\", \"SMB\", \"HML\", \"Mom\"], \"excess_ret_vw\")\n",
    "print(\"Value-Weighted Carhart Alpha:\", alpha_vw_carhart)\n",
    "print(model_vw_carhart.summary())"
   ]
  },
  {
   "cell_type": "code",
   "execution_count": 70,
   "metadata": {},
   "outputs": [
    {
     "name": "stdout",
     "output_type": "stream",
     "text": [
      "Equal-Weighted Carhart Alpha: -0.003066075599987973\n",
      "                            OLS Regression Results                            \n",
      "==============================================================================\n",
      "Dep. Variable:          excess_ret_ew   R-squared:                       0.107\n",
      "Model:                            OLS   Adj. R-squared:                  0.101\n",
      "Method:                 Least Squares   F-statistic:                     5.643\n",
      "Date:                Tue, 11 Mar 2025   Prob (F-statistic):           0.000184\n",
      "Time:                        08:41:41   Log-Likelihood:                 1402.0\n",
      "No. Observations:                 588   AIC:                            -2794.\n",
      "Df Residuals:                     583   BIC:                            -2772.\n",
      "Df Model:                           4                                         \n",
      "Covariance Type:                  HAC                                         \n",
      "==============================================================================\n",
      "                 coef    std err          z      P>|z|      [0.025      0.975]\n",
      "------------------------------------------------------------------------------\n",
      "const         -0.0031      0.001     -2.842      0.004      -0.005      -0.001\n",
      "Mkt_RF         0.0435      0.028      1.527      0.127      -0.012       0.099\n",
      "SMB            0.0973      0.087      1.124      0.261      -0.072       0.267\n",
      "HML           -0.1549      0.045     -3.416      0.001      -0.244      -0.066\n",
      "Mom            0.0682      0.042      1.626      0.104      -0.014       0.150\n",
      "==============================================================================\n",
      "Omnibus:                      221.382   Durbin-Watson:                   1.669\n",
      "Prob(Omnibus):                  0.000   Jarque-Bera (JB):             2359.922\n",
      "Skew:                           1.348   Prob(JB):                         0.00\n",
      "Kurtosis:                      12.437   Cond. No.                         36.6\n",
      "==============================================================================\n",
      "\n",
      "Notes:\n",
      "[1] Standard Errors are heteroscedasticity and autocorrelation robust (HAC) using 3 lags and without small sample correction\n"
     ]
    }
   ],
   "source": [
    "# Equal weighted Carhart alpha\n",
    "alpha_ew_carhart, model_ew_carhart = calc_alpha(df_reg_carhart, [\"Mkt_RF\", \"SMB\", \"HML\", \"Mom\"], \"excess_ret_ew\")\n",
    "print(\"Equal-Weighted Carhart Alpha:\", alpha_ew_carhart)\n",
    "print(model_ew_carhart.summary())"
   ]
  },
  {
   "cell_type": "code",
   "execution_count": 71,
   "metadata": {},
   "outputs": [
    {
     "name": "stdout",
     "output_type": "stream",
     "text": [
      "Value-Weighted FF5 Alpha: -0.0018638282898693563\n",
      "                            OLS Regression Results                            \n",
      "==============================================================================\n",
      "Dep. Variable:          excess_ret_vw   R-squared:                       0.039\n",
      "Model:                            OLS   Adj. R-squared:                  0.031\n",
      "Method:                 Least Squares   F-statistic:                     3.803\n",
      "Date:                Tue, 11 Mar 2025   Prob (F-statistic):            0.00213\n",
      "Time:                        08:41:41   Log-Likelihood:                 1516.7\n",
      "No. Observations:                 588   AIC:                            -3021.\n",
      "Df Residuals:                     582   BIC:                            -2995.\n",
      "Df Model:                           5                                         \n",
      "Covariance Type:                  HAC                                         \n",
      "==============================================================================\n",
      "                 coef    std err          z      P>|z|      [0.025      0.975]\n",
      "------------------------------------------------------------------------------\n",
      "const         -0.0019      0.001     -2.253      0.024      -0.003      -0.000\n",
      "Mkt_RF         0.0557      0.019      2.904      0.004       0.018       0.093\n",
      "SMB            0.0115      0.034      0.340      0.734      -0.055       0.078\n",
      "HML           -0.0786      0.037     -2.135      0.033      -0.151      -0.006\n",
      "RMW            0.0157      0.057      0.274      0.784      -0.096       0.128\n",
      "CMA            0.0069      0.061      0.113      0.910      -0.113       0.127\n",
      "==============================================================================\n",
      "Omnibus:                       15.949   Durbin-Watson:                   1.971\n",
      "Prob(Omnibus):                  0.000   Jarque-Bera (JB):               25.551\n",
      "Skew:                          -0.200   Prob(JB):                     2.83e-06\n",
      "Kurtosis:                       3.940   Cond. No.                         78.0\n",
      "==============================================================================\n",
      "\n",
      "Notes:\n",
      "[1] Standard Errors are heteroscedasticity and autocorrelation robust (HAC) using 3 lags and without small sample correction\n"
     ]
    }
   ],
   "source": [
    "# Value weighted FF5 alpha\n",
    "alpha_vw_ff5, model_vw_ff5 = calc_alpha(df_merged_ff5, [\"Mkt_RF\", \"SMB\", \"HML\", \"RMW\", \"CMA\"], \"excess_ret_vw\")\n",
    "print(\"Value-Weighted FF5 Alpha:\", alpha_vw_ff5)\n",
    "print(model_vw_ff5.summary())"
   ]
  },
  {
   "cell_type": "code",
   "execution_count": 72,
   "metadata": {},
   "outputs": [
    {
     "name": "stdout",
     "output_type": "stream",
     "text": [
      "Equal-Weighted FF5 Alpha: -0.0017460626834714052\n",
      "                            OLS Regression Results                            \n",
      "==============================================================================\n",
      "Dep. Variable:          excess_ret_ew   R-squared:                       0.173\n",
      "Model:                            OLS   Adj. R-squared:                  0.166\n",
      "Method:                 Least Squares   F-statistic:                     7.100\n",
      "Date:                Tue, 11 Mar 2025   Prob (F-statistic):           1.85e-06\n",
      "Time:                        08:41:41   Log-Likelihood:                 1424.5\n",
      "No. Observations:                 588   AIC:                            -2837.\n",
      "Df Residuals:                     582   BIC:                            -2811.\n",
      "Df Model:                           5                                         \n",
      "Covariance Type:                  HAC                                         \n",
      "==============================================================================\n",
      "                 coef    std err          z      P>|z|      [0.025      0.975]\n",
      "------------------------------------------------------------------------------\n",
      "const         -0.0017      0.001     -1.557      0.119      -0.004       0.000\n",
      "Mkt_RF         0.0372      0.028      1.324      0.186      -0.018       0.092\n",
      "SMB           -0.0068      0.049     -0.137      0.891      -0.104       0.090\n",
      "HML           -0.2458      0.054     -4.578      0.000      -0.351      -0.141\n",
      "RMW           -0.2873      0.088     -3.254      0.001      -0.460      -0.114\n",
      "CMA            0.2086      0.093      2.253      0.024       0.027       0.390\n",
      "==============================================================================\n",
      "Omnibus:                      158.150   Durbin-Watson:                   1.709\n",
      "Prob(Omnibus):                  0.000   Jarque-Bera (JB):             1613.977\n",
      "Skew:                           0.872   Prob(JB):                         0.00\n",
      "Kurtosis:                      10.927   Cond. No.                         78.0\n",
      "==============================================================================\n",
      "\n",
      "Notes:\n",
      "[1] Standard Errors are heteroscedasticity and autocorrelation robust (HAC) using 3 lags and without small sample correction\n"
     ]
    }
   ],
   "source": [
    "# Equal weighted FF5 alpha\n",
    "alpha_ew_ff5, model_ew_ff5 = calc_alpha(df_merged_ff5, [\"Mkt_RF\", \"SMB\", \"HML\", \"RMW\", \"CMA\"], \"excess_ret_ew\")\n",
    "print(\"Equal-Weighted FF5 Alpha:\", alpha_ew_ff5)\n",
    "print(model_ew_ff5.summary())"
   ]
  },
  {
   "cell_type": "code",
   "execution_count": 77,
   "metadata": {},
   "outputs": [],
   "source": [
    "# Read the full results\n",
    "df_full_results = pl.read_parquet(\"full_results/portfolio_analysis_results.parquet\")"
   ]
  },
  {
   "cell_type": "code",
   "execution_count": 78,
   "metadata": {},
   "outputs": [],
   "source": [
    "df_full_results.write_json(\"full_results/portfolio_analysis_results.json\")\n"
   ]
  },
  {
   "cell_type": "code",
   "execution_count": 3,
   "metadata": {},
   "outputs": [],
   "source": [
    "df_direct_sort = pl.read_parquet(\"full_results/portfolio_analysis_direct_sort.parquet\")\n",
    "df_direct_sort.write_json(\"full_results/portfolio_analysis_direct_sort.json\")"
   ]
  }
 ],
 "metadata": {
  "kernelspec": {
   "display_name": "Python 3",
   "language": "python",
   "name": "python3"
  },
  "language_info": {
   "codemirror_mode": {
    "name": "ipython",
    "version": 3
   },
   "file_extension": ".py",
   "mimetype": "text/x-python",
   "name": "python",
   "nbconvert_exporter": "python",
   "pygments_lexer": "ipython3",
   "version": "3.12.2"
  }
 },
 "nbformat": 4,
 "nbformat_minor": 2
}
